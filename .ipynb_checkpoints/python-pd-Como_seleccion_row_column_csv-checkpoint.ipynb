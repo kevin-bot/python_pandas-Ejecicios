{
 "cells": [
  {
   "cell_type": "code",
   "execution_count": 63,
   "metadata": {
    "scrolled": false
   },
   "outputs": [],
   "source": [
    "import pandas as pd"
   ]
  },
  {
   "cell_type": "markdown",
   "metadata": {},
   "source": [
    "## How do I select a subset of a DataFrame?\n",
    "### How do I select specific columns from a DataFrame?"
   ]
  },
  {
   "cell_type": "code",
   "execution_count": null,
   "metadata": {
    "scrolled": true
   },
   "outputs": [],
   "source": [
    "datos = pd.read_csv(\"./ATP.csv\")\n",
    "\n",
    "# I'm interested in the Date \n",
    "df = pd.DataFrame(datos)\n",
    "df[\"Date\"]"
   ]
  },
  {
   "cell_type": "code",
   "execution_count": null,
   "metadata": {},
   "outputs": [],
   "source": [
    "#I'm interested in two colum of files\n",
    "\n",
    "location_Date= df[ [\"Location\", \"Date\"] ]\n",
    "location_Date.head(5)\n",
    "\n",
    "type(location_Date)# this returns a tipe DataFrame\n",
    "\n",
    "location_Date.shape"
   ]
  },
  {
   "cell_type": "markdown",
   "metadata": {},
   "source": [
    "## How do I filter specific rows from a DataFrame?¶"
   ]
  },
  {
   "cell_type": "code",
   "execution_count": null,
   "metadata": {},
   "outputs": [],
   "source": [
    "# I'm interedted in data ATP > to 30\n",
    "\n",
    "atp_mayor = df[ df[\"ATP\"] > 30 ]\n",
    "\n",
    "# I'm interested in data ATP 31 and 51\n",
    "atp_mayor = df[ df[\"ATP\"].isin( [31,51] ) ]\n",
    "# lo anterior se puede hacer así\n",
    "otra_forma = df[(df [\"ATP\"] == 31) | (df[\"ATP\"] == 51)]\n",
    "\n"
   ]
  },
  {
   "cell_type": "code",
   "execution_count": null,
   "metadata": {},
   "outputs": [],
   "source": [
    "# quiero trabajar con datos que no sean N/A\n",
    "data_no_Nan = df[ df [\"ATP\"].notna()]\n"
   ]
  },
  {
   "cell_type": "markdown",
   "metadata": {},
   "source": [
    "## How I can select specific rows and columns form a DataFrame"
   ]
  },
  {
   "cell_type": "code",
   "execution_count": null,
   "metadata": {
    "scrolled": true
   },
   "outputs": [],
   "source": [
    "\n",
    "# I'm interestind in the Location of the participanted where APT > 31\n",
    "only_location = df.loc[ df[\"ATP\"] > 31, \"Location\" ]\n",
    "\n",
    "# When using loc/iloc, the part before the comma \n",
    "#is the rows you want, and the part after the comma is the columns you want to select."
   ]
  },
  {
   "cell_type": "code",
   "execution_count": null,
   "metadata": {},
   "outputs": [],
   "source": [
    "# I'm interedted in the rows 10 till  25 and  colum  3 to 5\n",
    "nuevo_rows_column = df.iloc[9:25, 2:5]\n",
    "# esta es una buena forma de hacer subDataFrame \n"
   ]
  },
  {
   "cell_type": "code",
   "execution_count": 62,
   "metadata": {},
   "outputs": [],
   "source": [
    "# Quiero modificar un numero de lineas y en una columna dada, por un valor determinado \n",
    "\n",
    "# Seria buno hacer una copia de DataFrame con esta operació\n",
    "df.iloc[0:5, 2] = \"XXX\"\n",
    "\n",
    "\n",
    "\n",
    "\n"
   ]
  }
 ],
 "metadata": {
  "kernelspec": {
   "display_name": "Python 3",
   "language": "python",
   "name": "python3"
  },
  "language_info": {
   "codemirror_mode": {
    "name": "ipython",
    "version": 3
   },
   "file_extension": ".py",
   "mimetype": "text/x-python",
   "name": "python",
   "nbconvert_exporter": "python",
   "pygments_lexer": "ipython3",
   "version": "3.7.6"
  }
 },
 "nbformat": 4,
 "nbformat_minor": 4
}
