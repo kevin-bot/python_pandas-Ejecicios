{
 "cells": [
  {
   "cell_type": "code",
   "execution_count": 8,
   "metadata": {},
   "outputs": [],
   "source": [
    "import pandas as pd\n",
    "import numpy as np\n",
    "# se crea un diccionario simple\n",
    "datos = {\"nombre\": [\"Kevin\", \"Daniela\", \"Alexa\", \"Camilo\",\"Cesar\"], \n",
    "        \"Calificaciones\": [\"100\", \"100\", \"50\", \"90\", \"80\"],\n",
    "        \"Deportes\": [\"Furbol\", \"Natacion\",\"Ciclismo\", \"basebol\",\"Futsal\"],\n",
    "        \"Materias\": [\"Calculo\", \"Fisica\", \"Cocina\",\"Quimica\", \"Filosofia\"]}\n",
    "#se convierte el un DataFrame de pandas\n",
    "df = pd.DataFrame(datos)\n"
   ]
  },
  {
   "cell_type": "code",
   "execution_count": 11,
   "metadata": {},
   "outputs": [],
   "source": [
    "#Datos no válidos\n",
    "datos_no_validos = {\"nombre\": [\"Kevin\", \"Daniela\", \"N/A\", \"Camilo\",\"Cesar\"], \n",
    "        \"Calificaciones\": [\"100\", np.nan, \"50\", \"90\", \"80\"],\n",
    "        \"Deportes\": [\"Furbol\", \"Natacion\",\"N/A\", \"basebol\",\"Futsal\"],\n",
    "        \"Materias\": [\"Calculo\", \"Fisica\", \"N/A\",\"Quimica\", \"Filosofia\"]}\n",
    "df_no_valido = pd.DataFrame(datos_no_validos)"
   ]
  },
  {
   "cell_type": "code",
   "execution_count": 12,
   "metadata": {},
   "outputs": [
    {
     "data": {
      "text/plain": [
       "<bound method DataFrame.info of     nombre Calificaciones  Deportes   Materias\n",
       "0    Kevin            100    Furbol    Calculo\n",
       "1  Daniela            NaN  Natacion     Fisica\n",
       "2      N/A             50       N/A        N/A\n",
       "3   Camilo             90   basebol    Quimica\n",
       "4    Cesar             80    Futsal  Filosofia>"
      ]
     },
     "execution_count": 12,
     "metadata": {},
     "output_type": "execute_result"
    }
   ],
   "source": [
    "# ver toda la información del DataFrame\n",
    "df_no_valido.info"
   ]
  },
  {
   "cell_type": "code",
   "execution_count": 14,
   "metadata": {},
   "outputs": [
    {
     "data": {
      "text/html": [
       "<div>\n",
       "<style scoped>\n",
       "    .dataframe tbody tr th:only-of-type {\n",
       "        vertical-align: middle;\n",
       "    }\n",
       "\n",
       "    .dataframe tbody tr th {\n",
       "        vertical-align: top;\n",
       "    }\n",
       "\n",
       "    .dataframe thead th {\n",
       "        text-align: right;\n",
       "    }\n",
       "</style>\n",
       "<table border=\"1\" class=\"dataframe\">\n",
       "  <thead>\n",
       "    <tr style=\"text-align: right;\">\n",
       "      <th></th>\n",
       "      <th>nombre</th>\n",
       "      <th>Calificaciones</th>\n",
       "      <th>Deportes</th>\n",
       "      <th>Materias</th>\n",
       "    </tr>\n",
       "  </thead>\n",
       "  <tbody>\n",
       "    <tr>\n",
       "      <th>0</th>\n",
       "      <td>Kevin</td>\n",
       "      <td>100</td>\n",
       "      <td>Furbol</td>\n",
       "      <td>Calculo</td>\n",
       "    </tr>\n",
       "    <tr>\n",
       "      <th>1</th>\n",
       "      <td>Daniela</td>\n",
       "      <td>0</td>\n",
       "      <td>Natacion</td>\n",
       "      <td>Fisica</td>\n",
       "    </tr>\n",
       "    <tr>\n",
       "      <th>2</th>\n",
       "      <td>N/A</td>\n",
       "      <td>50</td>\n",
       "      <td>N/A</td>\n",
       "      <td>N/A</td>\n",
       "    </tr>\n",
       "    <tr>\n",
       "      <th>3</th>\n",
       "      <td>Camilo</td>\n",
       "      <td>90</td>\n",
       "      <td>basebol</td>\n",
       "      <td>Quimica</td>\n",
       "    </tr>\n",
       "    <tr>\n",
       "      <th>4</th>\n",
       "      <td>Cesar</td>\n",
       "      <td>80</td>\n",
       "      <td>Futsal</td>\n",
       "      <td>Filosofia</td>\n",
       "    </tr>\n",
       "  </tbody>\n",
       "</table>\n",
       "</div>"
      ],
      "text/plain": [
       "    nombre Calificaciones  Deportes   Materias\n",
       "0    Kevin            100    Furbol    Calculo\n",
       "1  Daniela              0  Natacion     Fisica\n",
       "2      N/A             50       N/A        N/A\n",
       "3   Camilo             90   basebol    Quimica\n",
       "4    Cesar             80    Futsal  Filosofia"
      ]
     },
     "execution_count": 14,
     "metadata": {},
     "output_type": "execute_result"
    }
   ],
   "source": [
    "#Estadisticas básicas \n",
    "df_no_valido.describe()\n",
    "#buscar y reemplazar \n",
    "\n",
    "df_no_valido = df_no_valido.replace(np.nan, \"0\")\n",
    "df_no_valido"
   ]
  },
  {
   "cell_type": "code",
   "execution_count": 16,
   "metadata": {},
   "outputs": [
    {
     "data": {
      "text/html": [
       "<div>\n",
       "<style scoped>\n",
       "    .dataframe tbody tr th:only-of-type {\n",
       "        vertical-align: middle;\n",
       "    }\n",
       "\n",
       "    .dataframe tbody tr th {\n",
       "        vertical-align: top;\n",
       "    }\n",
       "\n",
       "    .dataframe thead th {\n",
       "        text-align: right;\n",
       "    }\n",
       "</style>\n",
       "<table border=\"1\" class=\"dataframe\">\n",
       "  <thead>\n",
       "    <tr style=\"text-align: right;\">\n",
       "      <th></th>\n",
       "      <th>nombre</th>\n",
       "      <th>Calificaciones</th>\n",
       "      <th>Deportes</th>\n",
       "      <th>Materias</th>\n",
       "    </tr>\n",
       "  </thead>\n",
       "  <tbody>\n",
       "    <tr>\n",
       "      <th>0</th>\n",
       "      <td>Kevin</td>\n",
       "      <td>100</td>\n",
       "      <td>Furbol</td>\n",
       "      <td>Calculo</td>\n",
       "    </tr>\n",
       "    <tr>\n",
       "      <th>1</th>\n",
       "      <td>Daniela</td>\n",
       "      <td>0</td>\n",
       "      <td>Natacion</td>\n",
       "      <td>Fisica</td>\n",
       "    </tr>\n",
       "    <tr>\n",
       "      <th>3</th>\n",
       "      <td>Camilo</td>\n",
       "      <td>90</td>\n",
       "      <td>basebol</td>\n",
       "      <td>Quimica</td>\n",
       "    </tr>\n",
       "    <tr>\n",
       "      <th>4</th>\n",
       "      <td>Cesar</td>\n",
       "      <td>80</td>\n",
       "      <td>Futsal</td>\n",
       "      <td>Filosofia</td>\n",
       "    </tr>\n",
       "  </tbody>\n",
       "</table>\n",
       "</div>"
      ],
      "text/plain": [
       "    nombre Calificaciones  Deportes   Materias\n",
       "0    Kevin            100    Furbol    Calculo\n",
       "1  Daniela              0  Natacion     Fisica\n",
       "3   Camilo             90   basebol    Quimica\n",
       "4    Cesar             80    Futsal  Filosofia"
      ]
     },
     "execution_count": 16,
     "metadata": {},
     "output_type": "execute_result"
    }
   ],
   "source": [
    "#Eliminar un dato de una columna en especifico \n",
    "columna = df_no_valido[ df_no_valido[\"nombre\"] != \"N/A\"]\n",
    "columna"
   ]
  },
  {
   "cell_type": "code",
   "execution_count": null,
   "metadata": {},
   "outputs": [],
   "source": []
  }
 ],
 "metadata": {
  "kernelspec": {
   "display_name": "Python 3",
   "language": "python",
   "name": "python3"
  },
  "language_info": {
   "codemirror_mode": {
    "name": "ipython",
    "version": 3
   },
   "file_extension": ".py",
   "mimetype": "text/x-python",
   "name": "python",
   "nbconvert_exporter": "python",
   "pygments_lexer": "ipython3",
   "version": "3.7.6"
  }
 },
 "nbformat": 4,
 "nbformat_minor": 4
}
